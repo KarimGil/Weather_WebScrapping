{
 "cells": [
  {
   "cell_type": "markdown",
   "metadata": {},
   "source": [
    "# Weather Web Scrapper "
   ]
  },
  {
   "cell_type": "code",
   "execution_count": 1,
   "metadata": {},
   "outputs": [],
   "source": [
    "import requests"
   ]
  },
  {
   "cell_type": "code",
   "execution_count": 2,
   "metadata": {},
   "outputs": [],
   "source": [
    "from bs4 import BeautifulSoup"
   ]
  },
  {
   "cell_type": "code",
   "execution_count": 3,
   "metadata": {},
   "outputs": [],
   "source": [
    "import pandas as pd"
   ]
  },
  {
   "cell_type": "code",
   "execution_count": 4,
   "metadata": {},
   "outputs": [],
   "source": [
    "page = requests.get('https://forecast.weather.gov/MapClick.php?lat=41.8843&lon=-87.6324#.XeIaNOhKjIU')"
   ]
  },
  {
   "cell_type": "code",
   "execution_count": 5,
   "metadata": {},
   "outputs": [],
   "source": [
    "soup = BeautifulSoup(page.content, 'html.parser')"
   ]
  },
  {
   "cell_type": "code",
   "execution_count": 6,
   "metadata": {},
   "outputs": [],
   "source": [
    "#print(soup)"
   ]
  },
  {
   "cell_type": "code",
   "execution_count": 7,
   "metadata": {},
   "outputs": [],
   "source": [
    "week = soup.find(id = 'seven-day-forecast-body')"
   ]
  },
  {
   "cell_type": "code",
   "execution_count": 8,
   "metadata": {},
   "outputs": [],
   "source": [
    "#print(week)"
   ]
  },
  {
   "cell_type": "code",
   "execution_count": 9,
   "metadata": {},
   "outputs": [],
   "source": [
    "items = week.find_all(class_='tombstone-container')"
   ]
  },
  {
   "cell_type": "code",
   "execution_count": 10,
   "metadata": {},
   "outputs": [],
   "source": [
    "#print(items)"
   ]
  },
  {
   "cell_type": "code",
   "execution_count": 11,
   "metadata": {},
   "outputs": [
    {
     "name": "stdout",
     "output_type": "stream",
     "text": [
      "Overnight\n"
     ]
    }
   ],
   "source": [
    "print(items[0].find(class_='period-name').get_text()) "
   ]
  },
  {
   "cell_type": "code",
   "execution_count": 12,
   "metadata": {},
   "outputs": [
    {
     "name": "stdout",
     "output_type": "stream",
     "text": [
      "Rain andBreezy\n"
     ]
    }
   ],
   "source": [
    "print(items[0].find(class_='short-desc').get_text())"
   ]
  },
  {
   "cell_type": "code",
   "execution_count": 13,
   "metadata": {},
   "outputs": [
    {
     "name": "stdout",
     "output_type": "stream",
     "text": [
      "Low: 35 °F\n"
     ]
    }
   ],
   "source": [
    "print(items[0].find(class_='temp').get_text())"
   ]
  },
  {
   "cell_type": "code",
   "execution_count": 14,
   "metadata": {},
   "outputs": [],
   "source": [
    "period_names = [item.find(class_='period-name').get_text() for item in items]"
   ]
  },
  {
   "cell_type": "code",
   "execution_count": 15,
   "metadata": {},
   "outputs": [
    {
     "name": "stdout",
     "output_type": "stream",
     "text": [
      "['Overnight', 'Saturday', 'SaturdayNight', 'Sunday', 'SundayNight', 'Monday', 'MondayNight', 'Tuesday', 'TuesdayNight']\n"
     ]
    }
   ],
   "source": [
    "print(period_names)"
   ]
  },
  {
   "cell_type": "code",
   "execution_count": 16,
   "metadata": {},
   "outputs": [],
   "source": [
    "description = [item.find(class_='short-desc').get_text() for item in items]"
   ]
  },
  {
   "cell_type": "code",
   "execution_count": 17,
   "metadata": {},
   "outputs": [
    {
     "name": "stdout",
     "output_type": "stream",
     "text": [
      "['Rain andBreezy', 'Showers andBreezy', 'Showers andBreezy thenChanceShowers', 'Rain/SnowLikely thenRain/Snow', 'Blustery.Rain/SnowLikely thenSlight ChanceSnow Showers', 'Partly Sunny', 'Partly Cloudy', 'Partly Sunny', 'Partly Cloudy']\n"
     ]
    }
   ],
   "source": [
    "print(description)"
   ]
  },
  {
   "cell_type": "code",
   "execution_count": 18,
   "metadata": {},
   "outputs": [],
   "source": [
    "temperatures = [item.find(class_='temp').get_text() for item in items]"
   ]
  },
  {
   "cell_type": "code",
   "execution_count": 19,
   "metadata": {},
   "outputs": [
    {
     "name": "stdout",
     "output_type": "stream",
     "text": [
      "['Low: 35 °F', 'High: 41 °F', 'Low: 42 °F', 'High: 40 °F', 'Low: 30 °F', 'High: 36 °F', 'Low: 28 °F', 'High: 40 °F', 'Low: 30 °F']\n"
     ]
    }
   ],
   "source": [
    "print(temperatures)"
   ]
  },
  {
   "cell_type": "code",
   "execution_count": 20,
   "metadata": {},
   "outputs": [],
   "source": [
    "#Creating CSV File."
   ]
  },
  {
   "cell_type": "code",
   "execution_count": 21,
   "metadata": {},
   "outputs": [],
   "source": [
    "weather_stuff = pd.DataFrame(\n",
    "    {'Period':period_names,\n",
    "    'Short Descriptions':description,\n",
    "    'Temperatures':temperatures,})"
   ]
  },
  {
   "cell_type": "code",
   "execution_count": 22,
   "metadata": {},
   "outputs": [
    {
     "name": "stdout",
     "output_type": "stream",
     "text": [
      "          Period                                 Short Descriptions  \\\n",
      "0      Overnight                                     Rain andBreezy   \n",
      "1       Saturday                                  Showers andBreezy   \n",
      "2  SaturdayNight                Showers andBreezy thenChanceShowers   \n",
      "3         Sunday                      Rain/SnowLikely thenRain/Snow   \n",
      "4    SundayNight  Blustery.Rain/SnowLikely thenSlight ChanceSnow...   \n",
      "5         Monday                                       Partly Sunny   \n",
      "6    MondayNight                                      Partly Cloudy   \n",
      "7        Tuesday                                       Partly Sunny   \n",
      "8   TuesdayNight                                      Partly Cloudy   \n",
      "\n",
      "  Temperatures  \n",
      "0   Low: 35 °F  \n",
      "1  High: 41 °F  \n",
      "2   Low: 42 °F  \n",
      "3  High: 40 °F  \n",
      "4   Low: 30 °F  \n",
      "5  High: 36 °F  \n",
      "6   Low: 28 °F  \n",
      "7  High: 40 °F  \n",
      "8   Low: 30 °F  \n"
     ]
    }
   ],
   "source": [
    "print(weather_stuff)"
   ]
  },
  {
   "cell_type": "code",
   "execution_count": 23,
   "metadata": {},
   "outputs": [],
   "source": [
    "weather_stuff.to_csv('Chicago_Weather.csv')"
   ]
  },
  {
   "cell_type": "code",
   "execution_count": null,
   "metadata": {},
   "outputs": [],
   "source": []
  }
 ],
 "metadata": {
  "kernelspec": {
   "display_name": "Python 3",
   "language": "python",
   "name": "python3"
  },
  "language_info": {
   "codemirror_mode": {
    "name": "ipython",
    "version": 3
   },
   "file_extension": ".py",
   "mimetype": "text/x-python",
   "name": "python",
   "nbconvert_exporter": "python",
   "pygments_lexer": "ipython3",
   "version": "3.7.3"
  }
 },
 "nbformat": 4,
 "nbformat_minor": 2
}
